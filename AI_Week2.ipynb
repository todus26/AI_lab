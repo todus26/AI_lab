{
  "nbformat": 4,
  "nbformat_minor": 0,
  "metadata": {
    "colab": {
      "provenance": [],
      "gpuType": "T4"
    },
    "kernelspec": {
      "name": "python3",
      "display_name": "Python 3"
    },
    "language_info": {
      "name": "python"
    },
    "accelerator": "GPU"
  },
  "cells": [
    {
      "cell_type": "code",
      "source": [
        "# PyTorch 라이브러리와 CUDA GPU 연결 상태를 확인하는 코드\n",
        "# 이 코드는 Google Colab 환경에서 PyTorch가 정상적으로 설치되고 작동하는지 테스트\n",
        "\n",
        "try:\n",
        "    # PyTorch 라이브러리를 가져옴 (import)\n",
        "    # 만약 PyTorch가 설치되지 않았다면 여기서 ImportError가 발생\n",
        "    import torch\n",
        "    print(\"✓ PyTorch is successfully imported!\")\n",
        "\n",
        "    # 현재 설치된 PyTorch의 버전을 출력\n",
        "    # __version__은 라이브러리의 버전 정보를 담고 있는 특별한 속성\n",
        "    print(f\"PyTorch version: {torch.__version__}\")\n",
        "\n",
        "    # CUDA(NVIDIA GPU 가속)가 사용 가능한지 확인\n",
        "    # torch.cuda.is_available()는 GPU를 사용할 수 있으면 True, 없으면 False를 반환\n",
        "    if torch.cuda.is_available():\n",
        "        # GPU가 사용 가능한 경우: GPU 개수와 이름을 출력\n",
        "        print(f\"✓ CUDA is available! Device count: {torch.cuda.device_count()}\")\n",
        "        # 첫 번째 GPU(인덱스 0)의 이름을 가져옴\n",
        "        print(f\"Current CUDA device: {torch.cuda.get_device_name(0)}\")\n",
        "    else:\n",
        "        # GPU가 사용 불가능한 경우: CPU만 사용한다는 메시지를 출력\n",
        "        print(\"CUDA is not available. Using CPU.\")\n",
        "\n",
        "    # 실제로 GPU에서 텐서(tensor, PyTorch의 기본 데이터 구조)를 생성해봄\n",
        "    # torch.tensor()로 숫자 리스트를 텐서로 변환하고, .cuda()로 GPU 메모리에 올림\n",
        "    # 만약 GPU가 없다면 여기서 에러가 발생할 수 있음\n",
        "    test_tensor = torch.tensor([1, 2, 3, 4, 5]).cuda()\n",
        "    print(f\"✓ Test tensor created: {test_tensor}\")\n",
        "\n",
        "    # 텐서의 모양(크기)을 확인. 여기서는 [5]가 출력 (5개 원소)\n",
        "    print(f\"Tensor shape: {test_tensor.shape}\")\n",
        "\n",
        "    # 텐서가 현재 어느 디바이스(CPU 또는 GPU)에 있는지 확인\n",
        "    # GPU에 있다면 'cuda:0' 같은 형태로 표시\n",
        "    print(f\"Tensor device: {test_tensor.device}\")\n",
        "\n",
        "    # 간단한 연산 테스트: 각 원소를 제곱\n",
        "    # **는 거듭제곱 연산자 (2제곱 = 제곱)\n",
        "    squared_tensor = test_tensor ** 2\n",
        "    print(f\"✓ Basic operation test (squaring): {squared_tensor}\")\n",
        "\n",
        "    # 모든 테스트가 성공했다는 메시지를 출력\n",
        "    print(f\"\\n🎉 PyTorch is working correctly!\")\n",
        "\n",
        "# ImportError 예외 처리: PyTorch가 설치되지 않은 경우\n",
        "except ImportError as e:\n",
        "    print(\"❌ PyTorch is not installed or not available\")\n",
        "    print(f\"Error details: {e}\")\n",
        "    print(\"Please install PyTorch using: pip install torch\")\n",
        "\n",
        "# 기타 모든 예외 처리: 다른 종류의 에러가 발생한 경우\n",
        "except Exception as e:\n",
        "    print(f\"❌ An error occurred while testing PyTorch: {e}\")"
      ],
      "metadata": {
        "colab": {
          "base_uri": "https://localhost:8080/"
        },
        "id": "m6SCceU1hhPT",
        "outputId": "7dbde4e5-fbfb-49a2-9581-9dfc7f2ac3e2"
      },
      "execution_count": 4,
      "outputs": [
        {
          "output_type": "stream",
          "name": "stdout",
          "text": [
            "✓ PyTorch is successfully imported!\n",
            "PyTorch version: 2.8.0+cu126\n",
            "✓ CUDA is available! Device count: 1\n",
            "Current CUDA device: Tesla T4\n",
            "✓ Test tensor created: tensor([1, 2, 3, 4, 5], device='cuda:0')\n",
            "Tensor shape: torch.Size([5])\n",
            "Tensor device: cuda:0\n",
            "✓ Basic operation test (squaring): tensor([ 1,  4,  9, 16, 25], device='cuda:0')\n",
            "\n",
            "🎉 PyTorch is working correctly!\n"
          ]
        }
      ]
    }
  ]
}